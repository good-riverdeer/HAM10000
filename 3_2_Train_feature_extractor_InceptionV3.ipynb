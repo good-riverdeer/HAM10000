{
  "nbformat": 4,
  "nbformat_minor": 0,
  "metadata": {
    "colab": {
      "name": "3-2. Train_feature_extractor_InceptionV3.ipynb",
      "provenance": [],
      "collapsed_sections": []
    },
    "kernelspec": {
      "name": "python3",
      "display_name": "Python 3"
    },
    "accelerator": "GPU"
  },
  "cells": [
    {
      "cell_type": "code",
      "metadata": {
        "id": "eq4FYCKyfOyY"
      },
      "source": [
        "import tensorflow as tf\n",
        "from tensorflow.keras import models, layers, optimizers, metrics, callbacks\n",
        "from tensorflow.keras.applications import InceptionV3\n",
        "from tensorflow.keras import backend as K\n",
        "\n",
        "import tensorflow.keras\n",
        "from keras.utils.layer_utils import count_params\n",
        "\n",
        "from sklearn.metrics import classification_report, confusion_matrix\n",
        "\n",
        "import pandas as pd\n",
        "import numpy as np\n",
        "import os, itertools\n",
        "import matplotlib.pyplot as plt\n",
        "\n",
        "pixel = 224\n",
        "PATH = os.path.join(f'./drive/MyDrive/Skin Cancer MNIST: HAM10000/data/input_feature_extractor')\n",
        "n_classes = 7"
      ],
      "execution_count": null,
      "outputs": []
    },
    {
      "cell_type": "code",
      "metadata": {
        "id": "ZeBrkvZJ9k72"
      },
      "source": [
        "def recall(y_target, y_pred):\n",
        "    # clip(t, clip_value_min, clip_value_max) : clip_value_min~clip_value_max 이외 가장자리를 깎아 낸다\n",
        "    # round : 반올림한다\n",
        "    y_target_yn = K.round(K.clip(y_target, 0, 1)) # 실제값을 0(Negative) 또는 1(Positive)로 설정한다\n",
        "    y_pred_yn = K.round(K.clip(y_pred, 0, 1)) # 예측값을 0(Negative) 또는 1(Positive)로 설정한다\n",
        "\n",
        "    # True Positive는 실제 값과 예측 값이 모두 1(Positive)인 경우이다\n",
        "    count_true_positive = K.sum(y_target_yn * y_pred_yn) \n",
        "\n",
        "    # (True Positive + False Negative) = 실제 값이 1(Positive) 전체\n",
        "    count_true_positive_false_negative = K.sum(y_target_yn)\n",
        "\n",
        "    # Recall =  (True Positive) / (True Positive + False Negative)\n",
        "    # K.epsilon()는 'divide by zero error' 예방차원에서 작은 수를 더한다\n",
        "    recall = count_true_positive / (count_true_positive_false_negative + K.epsilon())\n",
        "\n",
        "    # return a single tensor value\n",
        "    return recall\n",
        "\n",
        "def precision(y_target, y_pred):\n",
        "    # clip(t, clip_value_min, clip_value_max) : clip_value_min~clip_value_max 이외 가장자리를 깎아 낸다\n",
        "    # round : 반올림한다\n",
        "    y_pred_yn = K.round(K.clip(y_pred, 0, 1)) # 예측값을 0(Negative) 또는 1(Positive)로 설정한다\n",
        "    y_target_yn = K.round(K.clip(y_target, 0, 1)) # 실제값을 0(Negative) 또는 1(Positive)로 설정한다\n",
        "\n",
        "    # True Positive는 실제 값과 예측 값이 모두 1(Positive)인 경우이다\n",
        "    count_true_positive = K.sum(y_target_yn * y_pred_yn) \n",
        "\n",
        "    # (True Positive + False Positive) = 예측 값이 1(Positive) 전체\n",
        "    count_true_positive_false_positive = K.sum(y_pred_yn)\n",
        "\n",
        "    # Precision = (True Positive) / (True Positive + False Positive)\n",
        "    # K.epsilon()는 'divide by zero error' 예방차원에서 작은 수를 더한다\n",
        "    precision = count_true_positive / (count_true_positive_false_positive + K.epsilon())\n",
        "\n",
        "    # return a single tensor value\n",
        "    return precision\n",
        "\n",
        "def f1score(y_target, y_pred):\n",
        "    _recall = recall(y_target, y_pred)\n",
        "    _precision = precision(y_target, y_pred)\n",
        "    # K.epsilon()는 'divide by zero error' 예방차원에서 작은 수를 더한다\n",
        "    _f1score = ( 2 * _recall * _precision) / (_recall + _precision+ K.epsilon())\n",
        "    \n",
        "    # return a single tensor value\n",
        "    return _f1score\n",
        "\n",
        "def plot_confusion_matrix(cm, target_names=None, cmap=None, normalize=True, labels=True, title='Confusion matrix'):\n",
        "    accuracy = np.trace(cm) / float(np.sum(cm))\n",
        "    misclass = 1 - accuracy\n",
        "\n",
        "    if cmap is None:\n",
        "        cmap = plt.get_cmap('Blues')\n",
        "\n",
        "    if normalize:\n",
        "        cm = cm.astype('float') / cm.sum(axis=1)[:, np.newaxis]\n",
        "        \n",
        "    plt.figure(figsize=(8, 6))\n",
        "    plt.imshow(cm, interpolation='nearest', cmap=cmap)\n",
        "    plt.title(title)\n",
        "    plt.colorbar()\n",
        "\n",
        "    thresh = cm.max() / 1.5 if normalize else cm.max() / 2\n",
        "    \n",
        "    if target_names is not None:\n",
        "        tick_marks = np.arange(len(target_names))\n",
        "        plt.xticks(tick_marks, target_names)\n",
        "        plt.yticks(tick_marks, target_names)\n",
        "    \n",
        "    if labels:\n",
        "        for i, j in itertools.product(range(cm.shape[0]), range(cm.shape[1])):\n",
        "            if normalize:\n",
        "                plt.text(j, i, \"{:0.4f}\".format(cm[i, j]),\n",
        "                         horizontalalignment=\"center\",\n",
        "                         color=\"white\" if cm[i, j] > thresh else \"black\")\n",
        "            else:\n",
        "                plt.text(j, i, \"{:,}\".format(cm[i, j]),\n",
        "                         horizontalalignment=\"center\",\n",
        "                         color=\"white\" if cm[i, j] > thresh else \"black\")\n",
        "\n",
        "    plt.tight_layout()\n",
        "    plt.ylabel('True label')\n",
        "    plt.xlabel('Predicted label\\naccuracy={:0.4f}; misclass={:0.4f}'.format(accuracy, misclass))\n",
        "    plt.show()"
      ],
      "execution_count": null,
      "outputs": []
    },
    {
      "cell_type": "markdown",
      "metadata": {
        "id": "qglhuXHx8T6D"
      },
      "source": [
        "### Data load for training feature extractor"
      ]
    },
    {
      "cell_type": "code",
      "metadata": {
        "id": "6-x5WTUxoB7E"
      },
      "source": [
        "X_train_img = np.load(os.path.join(PATH, f\"X_train_img_seed0.npy\"))\n",
        "\n",
        "y_train = np.load(os.path.join(PATH, \"y_train_seed0.npy\"))\n",
        "\n",
        "X_train_meta = pd.read_csv(os.path.join(PATH, \"X_train_meta_seed0.csv\"))"
      ],
      "execution_count": null,
      "outputs": []
    },
    {
      "cell_type": "code",
      "metadata": {
        "id": "p4TnNNsJAJIi"
      },
      "source": [
        "X_test_img = np.load(os.path.join(PATH, f\"X_test_img_seed0.npy\"))\n",
        "\n",
        "y_test = np.load(os.path.join(PATH, \"y_test_seed0.npy\"))\n",
        "\n",
        "X_test_meta = pd.read_csv(os.path.join(PATH, \"X_test_meta_seed0.csv\"))"
      ],
      "execution_count": null,
      "outputs": []
    },
    {
      "cell_type": "markdown",
      "metadata": {
        "id": "Xkv6zvhgAW41"
      },
      "source": [
        "### Make feature extractor"
      ]
    },
    {
      "cell_type": "code",
      "metadata": {
        "id": "yxLIYX2cs1Ky",
        "colab": {
          "base_uri": "https://localhost:8080/"
        },
        "outputId": "fbb410fe-cb3d-47d9-8c5b-b29f153d71db"
      },
      "source": [
        "pre_trained_model = InceptionV3(weights='imagenet', include_top=False, input_shape=(pixel, pixel, 3))\n",
        "\n",
        "for layer in pre_trained_model.layers:\n",
        "  layer.trainable = False\n",
        "\n",
        "x = layers.Flatten()(pre_trained_model.output)\n",
        "x = layers.Dense(2048)(x)\n",
        "x = layers.BatchNormalization()(x)\n",
        "x = layers.Activation('relu')(x)\n",
        "x = layers.Dropout(0.2)(x)\n",
        "\n",
        "x = layers.Dense(1024)(x)\n",
        "x = layers.BatchNormalization()(x)\n",
        "x = layers.Activation('relu')(x)\n",
        "x = layers.Dropout(0.2)(x)\n",
        "\n",
        "x = layers.Dense(512)(x)\n",
        "x = layers.BatchNormalization()(x)\n",
        "x = layers.Activation('relu')(x)\n",
        "x = layers.Dropout(0.2)(x)\n",
        "\n",
        "x = layers.Dense(128)(x)\n",
        "x = layers.BatchNormalization()(x)\n",
        "x = layers.Activation('relu')(x)\n",
        "x = layers.Dropout(0.2)(x)\n",
        "\n",
        "x = layers.Dense(64)(x)\n",
        "x = layers.BatchNormalization()(x)\n",
        "x = layers.Activation('relu')(x)\n",
        "x = layers.Dropout(0.2)(x)\n",
        "\n",
        "x = layers.Dense(n_classes, activation='softmax')(x)\n",
        "model = models.Model(pre_trained_model.input, x)\n",
        "\n",
        "optimizer = tf.keras.optimizers.Adam(lr=0.0001)\n",
        "model.compile(\n",
        "    loss='categorical_crossentropy',\n",
        "    optimizer=optimizer, \n",
        "    metrics=['accuracy', recall, precision, f1score]\n",
        ")"
      ],
      "execution_count": null,
      "outputs": [
        {
          "output_type": "stream",
          "text": [
            "Downloading data from https://storage.googleapis.com/tensorflow/keras-applications/inception_v3/inception_v3_weights_tf_dim_ordering_tf_kernels_notop.h5\n",
            "87916544/87910968 [==============================] - 1s 0us/step\n"
          ],
          "name": "stdout"
        }
      ]
    },
    {
      "cell_type": "code",
      "metadata": {
        "colab": {
          "base_uri": "https://localhost:8080/"
        },
        "id": "JH1ziCEh9BPh",
        "outputId": "1930fb26-62fa-4d70-932c-fcd28c239558"
      },
      "source": [
        "print(f\"Total params: {model.count_params():,}\")\n",
        "print(f\"Trainalbe params: {count_params(model.trainable_weights):,}\")\n",
        "print(f\"Non-trainable params: {count_params(model.non_trainable_weights):,}\")"
      ],
      "execution_count": null,
      "outputs": [
        {
          "output_type": "stream",
          "text": [
            "Total params: 129,374,887\n",
            "Trainalbe params: 107,564,551\n",
            "Non-trainable params: 21,810,336\n"
          ],
          "name": "stdout"
        }
      ]
    },
    {
      "cell_type": "markdown",
      "metadata": {
        "id": "Bvdjf9-7GG5V"
      },
      "source": [
        "### Train feature extractor"
      ]
    },
    {
      "cell_type": "code",
      "metadata": {
        "id": "PVzhxib0-bBG"
      },
      "source": [
        "early_stop = callbacks.EarlyStopping(\n",
        "    monitor='val_loss', \n",
        "    patience=20, \n",
        "    verbose=1, \n",
        "    restore_best_weights=True\n",
        ")\n",
        "\n",
        "reduce_lr = callbacks.ReduceLROnPlateau(\n",
        "    monitor='val_loss',\n",
        "    patience=5,\n",
        "    verbost=1\n",
        ")"
      ],
      "execution_count": null,
      "outputs": []
    },
    {
      "cell_type": "code",
      "metadata": {
        "id": "FnHwJsnL9yk8",
        "colab": {
          "base_uri": "https://localhost:8080/"
        },
        "outputId": "46ab0f5d-83af-4db9-ff85-777a2ebe86f0"
      },
      "source": [
        "BATCH_SIZE = 128\n",
        "EPOCHS = 60\n",
        "\n",
        "history = model.fit(\n",
        "    X_train_img, y_train,\n",
        "    validation_data = (X_test_img, y_test),\n",
        "    steps_per_epoch=(X_train_img.shape[0] // BATCH_SIZE),\n",
        "    validation_steps=(X_test_img.shape[0] // BATCH_SIZE),\n",
        "    callbacks=[reduce_lr, early_stop],\n",
        "    epochs=EPOCHS,\n",
        "    verbose=1\n",
        ")"
      ],
      "execution_count": null,
      "outputs": [
        {
          "output_type": "stream",
          "text": [
            "Epoch 1/60\n",
            "62/62 [==============================] - 29s 472ms/step - loss: 1.6828 - accuracy: 0.4143 - recall: 0.1726 - precision: 0.6089 - f1score: 0.2672 - val_loss: 1.3643 - val_accuracy: 0.6161 - val_recall: 0.3331 - val_precision: 0.8614 - val_f1score: 0.4799\n",
            "Epoch 2/60\n",
            "62/62 [==============================] - 24s 392ms/step - loss: 1.1926 - accuracy: 0.6485 - recall: 0.3732 - precision: 0.8371 - f1score: 0.5144 - val_loss: 1.4701 - val_accuracy: 0.6186 - val_recall: 0.3007 - val_precision: 0.8205 - val_f1score: 0.4389\n",
            "Epoch 3/60\n",
            "62/62 [==============================] - 27s 430ms/step - loss: 0.9453 - accuracy: 0.7330 - recall: 0.5199 - precision: 0.8802 - f1score: 0.6526 - val_loss: 1.3510 - val_accuracy: 0.6655 - val_recall: 0.4139 - val_precision: 0.8313 - val_f1score: 0.5521\n",
            "Epoch 4/60\n",
            "62/62 [==============================] - 25s 411ms/step - loss: 0.7763 - accuracy: 0.7889 - recall: 0.6136 - precision: 0.9041 - f1score: 0.7304 - val_loss: 1.1325 - val_accuracy: 0.7109 - val_recall: 0.4972 - val_precision: 0.8707 - val_f1score: 0.6325\n",
            "Epoch 5/60\n",
            "62/62 [==============================] - 25s 403ms/step - loss: 0.6294 - accuracy: 0.8370 - recall: 0.7012 - precision: 0.9294 - f1score: 0.7989 - val_loss: 0.9353 - val_accuracy: 0.7534 - val_recall: 0.6126 - val_precision: 0.8685 - val_f1score: 0.7183\n",
            "Epoch 6/60\n",
            "62/62 [==============================] - 26s 411ms/step - loss: 0.5135 - accuracy: 0.8771 - recall: 0.7674 - precision: 0.9459 - f1score: 0.8470 - val_loss: 0.9063 - val_accuracy: 0.7439 - val_recall: 0.6381 - val_precision: 0.8570 - val_f1score: 0.7311\n",
            "Epoch 7/60\n",
            "62/62 [==============================] - 26s 411ms/step - loss: 0.4117 - accuracy: 0.9083 - recall: 0.8290 - precision: 0.9589 - f1score: 0.8890 - val_loss: 0.8496 - val_accuracy: 0.7559 - val_recall: 0.6684 - val_precision: 0.8473 - val_f1score: 0.7470\n",
            "Epoch 8/60\n",
            "62/62 [==============================] - 25s 409ms/step - loss: 0.3283 - accuracy: 0.9343 - recall: 0.8794 - precision: 0.9730 - f1score: 0.9236 - val_loss: 0.8367 - val_accuracy: 0.7559 - val_recall: 0.6938 - val_precision: 0.8256 - val_f1score: 0.7538\n",
            "Epoch 9/60\n",
            "62/62 [==============================] - 25s 406ms/step - loss: 0.2676 - accuracy: 0.9531 - recall: 0.9063 - precision: 0.9801 - f1score: 0.9416 - val_loss: 0.8300 - val_accuracy: 0.7614 - val_recall: 0.7039 - val_precision: 0.8388 - val_f1score: 0.7653\n",
            "Epoch 10/60\n",
            "62/62 [==============================] - 25s 406ms/step - loss: 0.2152 - accuracy: 0.9656 - recall: 0.9323 - precision: 0.9847 - f1score: 0.9577 - val_loss: 0.8692 - val_accuracy: 0.7484 - val_recall: 0.6935 - val_precision: 0.8154 - val_f1score: 0.7492\n",
            "Epoch 11/60\n",
            "62/62 [==============================] - 25s 407ms/step - loss: 0.1767 - accuracy: 0.9765 - recall: 0.9555 - precision: 0.9912 - f1score: 0.9730 - val_loss: 0.8052 - val_accuracy: 0.7579 - val_recall: 0.7129 - val_precision: 0.8124 - val_f1score: 0.7592\n",
            "Epoch 12/60\n",
            "62/62 [==============================] - 25s 406ms/step - loss: 0.1498 - accuracy: 0.9820 - recall: 0.9625 - precision: 0.9929 - f1score: 0.9774 - val_loss: 0.7858 - val_accuracy: 0.7693 - val_recall: 0.7343 - val_precision: 0.8181 - val_f1score: 0.7738\n",
            "Epoch 13/60\n",
            "62/62 [==============================] - 25s 402ms/step - loss: 0.1210 - accuracy: 0.9895 - recall: 0.9756 - precision: 0.9956 - f1score: 0.9854 - val_loss: 0.7860 - val_accuracy: 0.7748 - val_recall: 0.7458 - val_precision: 0.8080 - val_f1score: 0.7756\n",
            "Epoch 14/60\n",
            "62/62 [==============================] - 25s 404ms/step - loss: 0.1007 - accuracy: 0.9919 - recall: 0.9843 - precision: 0.9962 - f1score: 0.9902 - val_loss: 0.8472 - val_accuracy: 0.7579 - val_recall: 0.7308 - val_precision: 0.8005 - val_f1score: 0.7639\n",
            "Epoch 15/60\n",
            "62/62 [==============================] - 25s 402ms/step - loss: 0.0885 - accuracy: 0.9933 - recall: 0.9855 - precision: 0.9964 - f1score: 0.9909 - val_loss: 0.8073 - val_accuracy: 0.7659 - val_recall: 0.7409 - val_precision: 0.8007 - val_f1score: 0.7695\n",
            "Epoch 16/60\n",
            "62/62 [==============================] - 25s 403ms/step - loss: 0.0773 - accuracy: 0.9959 - recall: 0.9917 - precision: 0.9981 - f1score: 0.9949 - val_loss: 0.8351 - val_accuracy: 0.7614 - val_recall: 0.7344 - val_precision: 0.8021 - val_f1score: 0.7666\n",
            "Epoch 17/60\n",
            "62/62 [==============================] - 25s 402ms/step - loss: 0.0665 - accuracy: 0.9973 - recall: 0.9915 - precision: 0.9987 - f1score: 0.9951 - val_loss: 0.8035 - val_accuracy: 0.7728 - val_recall: 0.7503 - val_precision: 0.8055 - val_f1score: 0.7769\n",
            "Epoch 18/60\n",
            "62/62 [==============================] - 25s 402ms/step - loss: 0.0614 - accuracy: 0.9975 - recall: 0.9944 - precision: 0.9991 - f1score: 0.9967 - val_loss: 0.7990 - val_accuracy: 0.7733 - val_recall: 0.7508 - val_precision: 0.8087 - val_f1score: 0.7786\n",
            "Epoch 19/60\n",
            "62/62 [==============================] - 25s 401ms/step - loss: 0.0592 - accuracy: 0.9974 - recall: 0.9945 - precision: 0.9988 - f1score: 0.9966 - val_loss: 0.7931 - val_accuracy: 0.7743 - val_recall: 0.7514 - val_precision: 0.8055 - val_f1score: 0.7774\n",
            "Epoch 20/60\n",
            "62/62 [==============================] - 25s 403ms/step - loss: 0.0557 - accuracy: 0.9985 - recall: 0.9960 - precision: 0.9990 - f1score: 0.9975 - val_loss: 0.7935 - val_accuracy: 0.7748 - val_recall: 0.7498 - val_precision: 0.8070 - val_f1score: 0.7773\n",
            "Epoch 21/60\n",
            "62/62 [==============================] - 25s 404ms/step - loss: 0.0544 - accuracy: 0.9991 - recall: 0.9969 - precision: 0.9996 - f1score: 0.9983 - val_loss: 0.7928 - val_accuracy: 0.7723 - val_recall: 0.7473 - val_precision: 0.8052 - val_f1score: 0.7751\n",
            "Epoch 22/60\n",
            "62/62 [==============================] - 25s 401ms/step - loss: 0.0567 - accuracy: 0.9976 - recall: 0.9948 - precision: 0.9988 - f1score: 0.9968 - val_loss: 0.7942 - val_accuracy: 0.7728 - val_recall: 0.7458 - val_precision: 0.8063 - val_f1score: 0.7747\n",
            "Epoch 23/60\n",
            "62/62 [==============================] - 25s 402ms/step - loss: 0.0549 - accuracy: 0.9984 - recall: 0.9968 - precision: 0.9991 - f1score: 0.9979 - val_loss: 0.7920 - val_accuracy: 0.7738 - val_recall: 0.7503 - val_precision: 0.8049 - val_f1score: 0.7765\n",
            "Epoch 24/60\n",
            "62/62 [==============================] - 25s 401ms/step - loss: 0.0518 - accuracy: 0.9993 - recall: 0.9974 - precision: 0.9998 - f1score: 0.9986 - val_loss: 0.7919 - val_accuracy: 0.7738 - val_recall: 0.7503 - val_precision: 0.8048 - val_f1score: 0.7765\n",
            "Epoch 25/60\n",
            "62/62 [==============================] - 25s 405ms/step - loss: 0.0535 - accuracy: 0.9986 - recall: 0.9967 - precision: 0.9993 - f1score: 0.9980 - val_loss: 0.7917 - val_accuracy: 0.7728 - val_recall: 0.7503 - val_precision: 0.8048 - val_f1score: 0.7765\n",
            "Epoch 26/60\n",
            "62/62 [==============================] - 25s 404ms/step - loss: 0.0540 - accuracy: 0.9990 - recall: 0.9955 - precision: 0.9994 - f1score: 0.9974 - val_loss: 0.7916 - val_accuracy: 0.7733 - val_recall: 0.7493 - val_precision: 0.8037 - val_f1score: 0.7755\n",
            "Epoch 27/60\n",
            "62/62 [==============================] - 25s 404ms/step - loss: 0.0523 - accuracy: 0.9986 - recall: 0.9965 - precision: 0.9994 - f1score: 0.9979 - val_loss: 0.7923 - val_accuracy: 0.7728 - val_recall: 0.7508 - val_precision: 0.8040 - val_f1score: 0.7764\n",
            "Epoch 28/60\n",
            "62/62 [==============================] - 25s 404ms/step - loss: 0.0536 - accuracy: 0.9991 - recall: 0.9967 - precision: 0.9996 - f1score: 0.9982 - val_loss: 0.7929 - val_accuracy: 0.7728 - val_recall: 0.7498 - val_precision: 0.8042 - val_f1score: 0.7760\n",
            "Epoch 29/60\n",
            "62/62 [==============================] - 25s 403ms/step - loss: 0.0521 - accuracy: 0.9990 - recall: 0.9973 - precision: 0.9995 - f1score: 0.9984 - val_loss: 0.7923 - val_accuracy: 0.7728 - val_recall: 0.7503 - val_precision: 0.8043 - val_f1score: 0.7763\n",
            "Epoch 30/60\n",
            "62/62 [==============================] - 25s 404ms/step - loss: 0.0526 - accuracy: 0.9991 - recall: 0.9973 - precision: 0.9994 - f1score: 0.9983 - val_loss: 0.7920 - val_accuracy: 0.7733 - val_recall: 0.7498 - val_precision: 0.8047 - val_f1score: 0.7762\n",
            "Epoch 31/60\n",
            "62/62 [==============================] - 25s 403ms/step - loss: 0.0531 - accuracy: 0.9986 - recall: 0.9965 - precision: 0.9993 - f1score: 0.9979 - val_loss: 0.7922 - val_accuracy: 0.7738 - val_recall: 0.7508 - val_precision: 0.8045 - val_f1score: 0.7766\n",
            "Epoch 32/60\n",
            "62/62 [==============================] - ETA: 0s - loss: 0.0532 - accuracy: 0.9990 - recall: 0.9973 - precision: 0.9995 - f1score: 0.9984Restoring model weights from the end of the best epoch.\n",
            "62/62 [==============================] - 25s 407ms/step - loss: 0.0532 - accuracy: 0.9990 - recall: 0.9973 - precision: 0.9995 - f1score: 0.9984 - val_loss: 0.7919 - val_accuracy: 0.7728 - val_recall: 0.7508 - val_precision: 0.8049 - val_f1score: 0.7768\n",
            "Epoch 00032: early stopping\n"
          ],
          "name": "stdout"
        }
      ]
    },
    {
      "cell_type": "code",
      "metadata": {
        "id": "W88sGMSR_or9",
        "colab": {
          "base_uri": "https://localhost:8080/"
        },
        "outputId": "6e8e6904-28cd-4885-e03c-0e529376c5e1"
      },
      "source": [
        "early_stop.stopped_epoch"
      ],
      "execution_count": null,
      "outputs": [
        {
          "output_type": "execute_result",
          "data": {
            "text/plain": [
              "31"
            ]
          },
          "metadata": {
            "tags": []
          },
          "execution_count": 11
        }
      ]
    },
    {
      "cell_type": "code",
      "metadata": {
        "id": "WSI2nCgu_rHJ",
        "colab": {
          "base_uri": "https://localhost:8080/",
          "height": 545
        },
        "outputId": "32d09cc6-c1e5-499c-a7e9-4da9dea83fc2"
      },
      "source": [
        "metric = history.history['f1score']\n",
        "val_metric = history.history['val_f1score']\n",
        "\n",
        "loss = history.history['loss']\n",
        "val_loss = history.history['val_loss']\n",
        "\n",
        "plt.plot(range(len(metric)), metric, label='training')\n",
        "plt.plot(range(len(val_metric)), val_metric, label='validation')\n",
        "plt.legend()\n",
        "plt.title(\"F1 Score\")\n",
        "\n",
        "plt.figure()\n",
        "plt.plot(range(len(loss)), loss, label='training')\n",
        "plt.plot(range(len(val_loss)), val_loss, label='validation')\n",
        "plt.legend()\n",
        "plt.title(\"Loss\")\n",
        "\n",
        "plt.show()"
      ],
      "execution_count": null,
      "outputs": [
        {
          "output_type": "display_data",
          "data": {
            "image/png": "[encoded data removed]",
            "text/plain": [
              "<Figure size 432x288 with 1 Axes>"
            ]
          },
          "metadata": {
            "tags": [],
            "needs_background": "light"
          }
        },
        {
          "output_type": "display_data",
          "data": {
            "image/png": "[encoded data removed]",
            "text/plain": [
              "<Figure size 432x288 with 1 Axes>"
            ]
          },
          "metadata": {
            "tags": [],
            "needs_background": "light"
          }
        }
      ]
    },
    {
      "cell_type": "code",
      "metadata": {
        "id": "oNzF3e_vAi_h"
      },
      "source": [
        "y_pred = model.predict(X_test_img)\n",
        "\n",
        "y_pred_classes = np.argmax(y_pred, axis=1)\n",
        "y_true = np.argmax(y_test, axis=1)"
      ],
      "execution_count": null,
      "outputs": []
    },
    {
      "cell_type": "code",
      "metadata": {
        "id": "BKMFL98iBxWe",
        "colab": {
          "base_uri": "https://localhost:8080/"
        },
        "outputId": "48cbbbb2-803f-4db2-d991-bfd5e44582b7"
      },
      "source": [
        "print(classification_report(y_true, y_pred_classes))"
      ],
      "execution_count": null,
      "outputs": [
        {
          "output_type": "stream",
          "text": [
            "              precision    recall  f1-score   support\n",
            "\n",
            "           0       0.35      0.30      0.32        61\n",
            "           1       0.57      0.58      0.57       111\n",
            "           2       0.50      0.51      0.50       198\n",
            "           3       0.52      0.38      0.44        29\n",
            "           4       0.85      0.95      0.90      1351\n",
            "           5       0.73      0.37      0.49        30\n",
            "           6       0.61      0.23      0.33       223\n",
            "\n",
            "    accuracy                           0.77      2003\n",
            "   macro avg       0.59      0.47      0.51      2003\n",
            "weighted avg       0.75      0.77      0.75      2003\n",
            "\n"
          ],
          "name": "stdout"
        }
      ]
    },
    {
      "cell_type": "code",
      "metadata": {
        "id": "aq37oeFdB3vS",
        "colab": {
          "base_uri": "https://localhost:8080/",
          "height": 467
        },
        "outputId": "d66df674-59dd-422c-9da9-2c7e7590fe15"
      },
      "source": [
        "classes = ['akiec', 'bcc', 'bkl', 'df', 'mel', 'nv', 'vasc']\n",
        "plot_confusion_matrix(confusion_matrix(y_true, y_pred_classes), target_names=classes)"
      ],
      "execution_count": null,
      "outputs": [
        {
          "output_type": "display_data",
          "data": {
            "image/png": "[encoded data removed]",
            "text/plain": [
              "<Figure size 576x432 with 2 Axes>"
            ]
          },
          "metadata": {
            "tags": [],
            "needs_background": "light"
          }
        }
      ]
    },
    {
      "cell_type": "markdown",
      "metadata": {
        "id": "N3mtOQlXGQeU"
      },
      "source": [
        "### Save feature extractor"
      ]
    },
    {
      "cell_type": "code",
      "metadata": {
        "id": "lAODyOJ--vR5"
      },
      "source": [
        "feature_extractor = models.Model(model.input, model.layers[-2].output)"
      ],
      "execution_count": null,
      "outputs": []
    },
    {
      "cell_type": "code",
      "metadata": {
        "id": "tJxXCz3D9gtX"
      },
      "source": [
        "feature_extractor.save(os.path.join(PATH, \"../InceptionV3_feature_extractor_8K.h5\"))"
      ],
      "execution_count": null,
      "outputs": []
    }
  ]
}