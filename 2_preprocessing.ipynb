{
  "nbformat": 4,
  "nbformat_minor": 0,
  "metadata": {
    "colab": {
      "name": "2. preprocessing.ipynb",
      "provenance": [],
      "collapsed_sections": []
    },
    "kernelspec": {
      "name": "python3",
      "display_name": "Python 3"
    },
    "widgets": {
      "application/vnd.jupyter.widget-state+json": {
        "811a8b3e7bbc4286aa28dbf944f73596": {
          "model_module": "@jupyter-widgets/controls",
          "model_name": "HBoxModel",
          "state": {
            "_view_name": "HBoxView",
            "_dom_classes": [],
            "_model_name": "HBoxModel",
            "_view_module": "@jupyter-widgets/controls",
            "_model_module_version": "1.5.0",
            "_view_count": null,
            "_view_module_version": "1.5.0",
            "box_style": "",
            "layout": "IPY_MODEL_ed4de94e5df44d86af29e984727f7baf",
            "_model_module": "@jupyter-widgets/controls",
            "children": [
              "IPY_MODEL_18af9cbdc91641a89a0a5ff453645b7e",
              "IPY_MODEL_7dd67c5a0cd84428955c34c5cc626a23"
            ]
          }
        },
        "ed4de94e5df44d86af29e984727f7baf": {
          "model_module": "@jupyter-widgets/base",
          "model_name": "LayoutModel",
          "state": {
            "_view_name": "LayoutView",
            "grid_template_rows": null,
            "right": null,
            "justify_content": null,
            "_view_module": "@jupyter-widgets/base",
            "overflow": null,
            "_model_module_version": "1.2.0",
            "_view_count": null,
            "flex_flow": null,
            "width": null,
            "min_width": null,
            "border": null,
            "align_items": null,
            "bottom": null,
            "_model_module": "@jupyter-widgets/base",
            "top": null,
            "grid_column": null,
            "overflow_y": null,
            "overflow_x": null,
            "grid_auto_flow": null,
            "grid_area": null,
            "grid_template_columns": null,
            "flex": null,
            "_model_name": "LayoutModel",
            "justify_items": null,
            "grid_row": null,
            "max_height": null,
            "align_content": null,
            "visibility": null,
            "align_self": null,
            "height": null,
            "min_height": null,
            "padding": null,
            "grid_auto_rows": null,
            "grid_gap": null,
            "max_width": null,
            "order": null,
            "_view_module_version": "1.2.0",
            "grid_template_areas": null,
            "object_position": null,
            "object_fit": null,
            "grid_auto_columns": null,
            "margin": null,
            "display": null,
            "left": null
          }
        },
        "18af9cbdc91641a89a0a5ff453645b7e": {
          "model_module": "@jupyter-widgets/controls",
          "model_name": "FloatProgressModel",
          "state": {
            "_view_name": "ProgressView",
            "style": "IPY_MODEL_04741b400ffc4c5fae0ee467d1be2118",
            "_dom_classes": [],
            "description": "100%",
            "_model_name": "FloatProgressModel",
            "bar_style": "success",
            "max": 10015,
            "_view_module": "@jupyter-widgets/controls",
            "_model_module_version": "1.5.0",
            "value": 10015,
            "_view_count": null,
            "_view_module_version": "1.5.0",
            "orientation": "horizontal",
            "min": 0,
            "description_tooltip": null,
            "_model_module": "@jupyter-widgets/controls",
            "layout": "IPY_MODEL_3dcfe5ced37846c3bb9a38fd9607fa30"
          }
        },
        "7dd67c5a0cd84428955c34c5cc626a23": {
          "model_module": "@jupyter-widgets/controls",
          "model_name": "HTMLModel",
          "state": {
            "_view_name": "HTMLView",
            "style": "IPY_MODEL_bcda877fa76145828182521fd76844fe",
            "_dom_classes": [],
            "description": "",
            "_model_name": "HTMLModel",
            "placeholder": "​",
            "_view_module": "@jupyter-widgets/controls",
            "_model_module_version": "1.5.0",
            "value": " 10015/10015 [1:22:17&lt;00:00,  2.03it/s]",
            "_view_count": null,
            "_view_module_version": "1.5.0",
            "description_tooltip": null,
            "_model_module": "@jupyter-widgets/controls",
            "layout": "IPY_MODEL_17e32904395f4272a49686d34538120c"
          }
        },
        "04741b400ffc4c5fae0ee467d1be2118": {
          "model_module": "@jupyter-widgets/controls",
          "model_name": "ProgressStyleModel",
          "state": {
            "_view_name": "StyleView",
            "_model_name": "ProgressStyleModel",
            "description_width": "initial",
            "_view_module": "@jupyter-widgets/base",
            "_model_module_version": "1.5.0",
            "_view_count": null,
            "_view_module_version": "1.2.0",
            "bar_color": null,
            "_model_module": "@jupyter-widgets/controls"
          }
        },
        "3dcfe5ced37846c3bb9a38fd9607fa30": {
          "model_module": "@jupyter-widgets/base",
          "model_name": "LayoutModel",
          "state": {
            "_view_name": "LayoutView",
            "grid_template_rows": null,
            "right": null,
            "justify_content": null,
            "_view_module": "@jupyter-widgets/base",
            "overflow": null,
            "_model_module_version": "1.2.0",
            "_view_count": null,
            "flex_flow": null,
            "width": null,
            "min_width": null,
            "border": null,
            "align_items": null,
            "bottom": null,
            "_model_module": "@jupyter-widgets/base",
            "top": null,
            "grid_column": null,
            "overflow_y": null,
            "overflow_x": null,
            "grid_auto_flow": null,
            "grid_area": null,
            "grid_template_columns": null,
            "flex": null,
            "_model_name": "LayoutModel",
            "justify_items": null,
            "grid_row": null,
            "max_height": null,
            "align_content": null,
            "visibility": null,
            "align_self": null,
            "height": null,
            "min_height": null,
            "padding": null,
            "grid_auto_rows": null,
            "grid_gap": null,
            "max_width": null,
            "order": null,
            "_view_module_version": "1.2.0",
            "grid_template_areas": null,
            "object_position": null,
            "object_fit": null,
            "grid_auto_columns": null,
            "margin": null,
            "display": null,
            "left": null
          }
        },
        "bcda877fa76145828182521fd76844fe": {
          "model_module": "@jupyter-widgets/controls",
          "model_name": "DescriptionStyleModel",
          "state": {
            "_view_name": "StyleView",
            "_model_name": "DescriptionStyleModel",
            "description_width": "",
            "_view_module": "@jupyter-widgets/base",
            "_model_module_version": "1.5.0",
            "_view_count": null,
            "_view_module_version": "1.2.0",
            "_model_module": "@jupyter-widgets/controls"
          }
        },
        "17e32904395f4272a49686d34538120c": {
          "model_module": "@jupyter-widgets/base",
          "model_name": "LayoutModel",
          "state": {
            "_view_name": "LayoutView",
            "grid_template_rows": null,
            "right": null,
            "justify_content": null,
            "_view_module": "@jupyter-widgets/base",
            "overflow": null,
            "_model_module_version": "1.2.0",
            "_view_count": null,
            "flex_flow": null,
            "width": null,
            "min_width": null,
            "border": null,
            "align_items": null,
            "bottom": null,
            "_model_module": "@jupyter-widgets/base",
            "top": null,
            "grid_column": null,
            "overflow_y": null,
            "overflow_x": null,
            "grid_auto_flow": null,
            "grid_area": null,
            "grid_template_columns": null,
            "flex": null,
            "_model_name": "LayoutModel",
            "justify_items": null,
            "grid_row": null,
            "max_height": null,
            "align_content": null,
            "visibility": null,
            "align_self": null,
            "height": null,
            "min_height": null,
            "padding": null,
            "grid_auto_rows": null,
            "grid_gap": null,
            "max_width": null,
            "order": null,
            "_view_module_version": "1.2.0",
            "grid_template_areas": null,
            "object_position": null,
            "object_fit": null,
            "grid_auto_columns": null,
            "margin": null,
            "display": null,
            "left": null
          }
        }
      }
    }
  },
  "cells": [
    {
      "cell_type": "code",
      "metadata": {
        "id": "KEgpRX1r9vEp"
      },
      "source": [
        "import os\n",
        "import pandas as pd\n",
        "import numpy as np\n",
        "from tqdm.notebook import tqdm\n",
        "from glob import glob\n",
        "from PIL import Image\n",
        "\n",
        "from sklearn.model_selection import train_test_split\n",
        "\n",
        "from tensorflow.keras.utils import to_categorical\n",
        "\n",
        "PATH = os.path.join('./drive/MyDrive/Skin Cancer MNIST: HAM10000/data')"
      ],
      "execution_count": null,
      "outputs": []
    },
    {
      "cell_type": "code",
      "metadata": {
        "id": "-AQrR6qSGGRY"
      },
      "source": [
        "all_image_path = glob(os.path.join(PATH, '*', '*.jpg'))\n",
        "imageid_path_dict = {os.path.splitext(os.path.basename(x))[0]: x for x in all_image_path}\n",
        "lesion_type_dict = {\n",
        "    'nv': 'Melanocytic nevi',\n",
        "    'mel': 'dermatofibroma',\n",
        "    'bkl': 'Benign keratosis-like lesions ',\n",
        "    'bcc': 'Basal cell carcinoma',\n",
        "    'akiec': 'Actinic keratoses',\n",
        "    'vasc': 'Vascular lesions',\n",
        "    'df': 'Dermatofibroma'\n",
        "}"
      ],
      "execution_count": null,
      "outputs": []
    },
    {
      "cell_type": "code",
      "metadata": {
        "id": "dLhPgwJXFnjB"
      },
      "source": [
        "df_original = pd.read_csv(os.path.join(PATH, 'HAM10000_metadata.csv'))\n",
        "df_original['path'] = df_original['image_id'].map(imageid_path_dict.get)\n",
        "df_original['cell_type'] = df_original['dx'].map(lesion_type_dict.get)\n",
        "df_original['cell_type_idx'] = pd.Categorical(df_original['cell_type']).codes\n",
        "df = df_original.copy()"
      ],
      "execution_count": null,
      "outputs": []
    },
    {
      "cell_type": "code",
      "metadata": {
        "id": "QAPuKfKiIEde"
      },
      "source": [
        "df['age'].fillna(df['age'].mean(), inplace=True)\n",
        "df['age'] = (df['age'] - df['age'].mean()) / df['age'].std()\n",
        "\n",
        "dxtype_df = pd.get_dummies(df['dx_type'])\n",
        "df = pd.concat([dxtype_df, df], axis=1)\n",
        "\n",
        "localization_df = pd.get_dummies(df['localization'])\n",
        "df = pd.concat([localization_df, df], axis=1)\n",
        "\n",
        "sex_df = pd.get_dummies(df['sex'])\n",
        "sex_df.drop(['unknown'], axis=1, inplace=True)\n",
        "df = pd.concat([sex_df, df], axis=1)"
      ],
      "execution_count": null,
      "outputs": []
    },
    {
      "cell_type": "code",
      "metadata": {
        "id": "u2O-cEg-JFng",
        "colab": {
          "base_uri": "https://localhost:8080/"
        },
        "outputId": "b0f1dff1-beda-4d27-fdfd-a6dced973959"
      },
      "source": [
        "df.info()"
      ],
      "execution_count": null,
      "outputs": [
        {
          "output_type": "stream",
          "text": [
            "<class 'pandas.core.frame.DataFrame'>\n",
            "RangeIndex: 10015 entries, 0 to 10014\n",
            "Data columns (total 31 columns):\n",
            " #   Column           Non-Null Count  Dtype  \n",
            "---  ------           --------------  -----  \n",
            " 0   female           10015 non-null  uint8  \n",
            " 1   male             10015 non-null  uint8  \n",
            " 2   abdomen          10015 non-null  uint8  \n",
            " 3   acral            10015 non-null  uint8  \n",
            " 4   back             10015 non-null  uint8  \n",
            " 5   chest            10015 non-null  uint8  \n",
            " 6   ear              10015 non-null  uint8  \n",
            " 7   face             10015 non-null  uint8  \n",
            " 8   foot             10015 non-null  uint8  \n",
            " 9   genital          10015 non-null  uint8  \n",
            " 10  hand             10015 non-null  uint8  \n",
            " 11  lower extremity  10015 non-null  uint8  \n",
            " 12  neck             10015 non-null  uint8  \n",
            " 13  scalp            10015 non-null  uint8  \n",
            " 14  trunk            10015 non-null  uint8  \n",
            " 15  unknown          10015 non-null  uint8  \n",
            " 16  upper extremity  10015 non-null  uint8  \n",
            " 17  confocal         10015 non-null  uint8  \n",
            " 18  consensus        10015 non-null  uint8  \n",
            " 19  follow_up        10015 non-null  uint8  \n",
            " 20  histo            10015 non-null  uint8  \n",
            " 21  lesion_id        10015 non-null  object \n",
            " 22  image_id         10015 non-null  object \n",
            " 23  dx               10015 non-null  object \n",
            " 24  dx_type          10015 non-null  object \n",
            " 25  age              10015 non-null  float64\n",
            " 26  sex              10015 non-null  object \n",
            " 27  localization     10015 non-null  object \n",
            " 28  path             10015 non-null  object \n",
            " 29  cell_type        10015 non-null  object \n",
            " 30  cell_type_idx    10015 non-null  int8   \n",
            "dtypes: float64(1), int8(1), object(8), uint8(21)\n",
            "memory usage: 919.5+ KB\n"
          ],
          "name": "stdout"
        }
      ]
    },
    {
      "cell_type": "code",
      "metadata": {
        "id": "yX04QS3XAGD5"
      },
      "source": [
        "X_df = df.drop('cell_type_idx', axis=1)\n",
        "y_df = df['cell_type_idx']"
      ],
      "execution_count": null,
      "outputs": []
    },
    {
      "cell_type": "code",
      "metadata": {
        "id": "66JHnL_JBPCZ",
        "colab": {
          "base_uri": "https://localhost:8080/",
          "height": 67,
          "referenced_widgets": [
            "811a8b3e7bbc4286aa28dbf944f73596",
            "ed4de94e5df44d86af29e984727f7baf",
            "18af9cbdc91641a89a0a5ff453645b7e",
            "7dd67c5a0cd84428955c34c5cc626a23",
            "04741b400ffc4c5fae0ee467d1be2118",
            "3dcfe5ced37846c3bb9a38fd9607fa30",
            "bcda877fa76145828182521fd76844fe",
            "17e32904395f4272a49686d34538120c"
          ]
        },
        "outputId": "d4dc12d1-6a1b-45dd-963d-224cfc21c284"
      },
      "source": [
        "tqdm.pandas()\n",
        "\n",
        "pixel = 224\n",
        "\n",
        "X_df['image'] = X_df['path'].progress_map(lambda x: np.asarray(Image.open(x).resize((pixel, pixel))))"
      ],
      "execution_count": null,
      "outputs": [
        {
          "output_type": "display_data",
          "data": {
            "application/vnd.jupyter.widget-view+json": {
              "model_id": "811a8b3e7bbc4286aa28dbf944f73596",
              "version_minor": 0,
              "version_major": 2
            },
            "text/plain": [
              "HBox(children=(FloatProgress(value=0.0, max=10015.0), HTML(value='')))"
            ]
          },
          "metadata": {
            "tags": []
          }
        },
        {
          "output_type": "stream",
          "text": [
            "\n"
          ],
          "name": "stdout"
        }
      ]
    },
    {
      "cell_type": "markdown",
      "metadata": {
        "id": "OO5Vfz3sNO0D"
      },
      "source": [
        "------------------------------"
      ]
    },
    {
      "cell_type": "markdown",
      "metadata": {
        "id": "j51wKdmqNzMY"
      },
      "source": [
        "### random seed = 24"
      ]
    },
    {
      "cell_type": "code",
      "metadata": {
        "id": "mlPFXyitCJlC"
      },
      "source": [
        "X_train, X_test, y_train, y_test = train_test_split(X_df, y_df, test_size=0.2, random_state=24)"
      ],
      "execution_count": null,
      "outputs": []
    },
    {
      "cell_type": "code",
      "metadata": {
        "id": "OJ9ty21ZN4bn"
      },
      "source": [
        "columns = ['lesion_id','image_id','dx_type','dx','path','cell_type','sex','path','localization','image']\n",
        "\n",
        "X_train_meta = X_train.drop(columns, axis=1)\n",
        "X_test_meta = X_test.drop(columns, axis=1)"
      ],
      "execution_count": null,
      "outputs": []
    },
    {
      "cell_type": "code",
      "metadata": {
        "id": "ZSyHWJJzN5pC"
      },
      "source": [
        "X_train_img = np.array([np.array(i) for i in X_train['image']], dtype='float32')\n",
        "X_test_img = np.array([np.array(i) for i in X_test['image']], dtype='float32')\n",
        "\n",
        "X_train_img /= 255.0\n",
        "X_test_img /= 255.0\n",
        "\n",
        "y_train = to_categorical(y_train, num_classes=7)\n",
        "y_test = to_categorical(y_test, num_classes=7)"
      ],
      "execution_count": null,
      "outputs": []
    },
    {
      "cell_type": "code",
      "metadata": {
        "id": "kO4b7tW2N65u",
        "colab": {
          "base_uri": "https://localhost:8080/"
        },
        "outputId": "f869701d-8be0-402a-cb51-e70df8a838f0"
      },
      "source": [
        "X_train_img.shape, X_train_meta.shape, y_train.shape"
      ],
      "execution_count": null,
      "outputs": [
        {
          "output_type": "execute_result",
          "data": {
            "text/plain": [
              "((8012, 224, 224, 3), (8012, 22), (8012, 7))"
            ]
          },
          "metadata": {
            "tags": []
          },
          "execution_count": 12
        }
      ]
    },
    {
      "cell_type": "code",
      "metadata": {
        "id": "gC7iosrXN8Bg",
        "colab": {
          "base_uri": "https://localhost:8080/"
        },
        "outputId": "a576ebe5-452f-473d-808d-eb9613dac1bd"
      },
      "source": [
        "X_test_img.shape, X_test_meta.shape, y_test.shape"
      ],
      "execution_count": null,
      "outputs": [
        {
          "output_type": "execute_result",
          "data": {
            "text/plain": [
              "((2003, 224, 224, 3), (2003, 22), (2003, 7))"
            ]
          },
          "metadata": {
            "tags": []
          },
          "execution_count": 13
        }
      ]
    },
    {
      "cell_type": "code",
      "metadata": {
        "id": "mbpqjAd0N_Yj"
      },
      "source": [
        "if not os.path.exists(os.path.join(PATH, \"input\")):\n",
        "  os.mkdir(os.path.join(PATH, \"input\"))\n",
        "\n",
        "X_train_meta.to_csv(os.path.join(PATH, \"input/X_train_meta_seed24.csv\"), index=False)\n",
        "X_test_meta.to_csv(os.path.join(PATH, \"input/X_test_meta_seed24.csv\"), index=False)\n",
        "\n",
        "np.save(open(os.path.join(PATH, f\"input/X_train_img_{pixel}_seed24.npy\"), 'wb'), X_train_img)\n",
        "np.save(open(os.path.join(PATH, f\"input/X_test_img_{pixel}_seed24.npy\"), 'wb'), X_test_img)\n",
        "\n",
        "np.save(open(os.path.join(PATH, \"input/y_train_seed24.npy\"), 'wb'), y_train)\n",
        "np.save(open(os.path.join(PATH, \"input/y_test_seed24.npy\"), 'wb'), y_test)"
      ],
      "execution_count": null,
      "outputs": []
    },
    {
      "cell_type": "code",
      "metadata": {
        "id": "dJe4o84POEy0"
      },
      "source": [
        ""
      ],
      "execution_count": null,
      "outputs": []
    }
  ]
}