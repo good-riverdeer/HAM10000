{
  "nbformat": 4,
  "nbformat_minor": 0,
  "metadata": {
    "colab": {
      "name": "3-1. Train_feature_extractor_VGG16.ipynb",
      "provenance": [],
      "collapsed_sections": []
    },
    "kernelspec": {
      "name": "python3",
      "display_name": "Python 3"
    },
    "accelerator": "GPU"
  },
  "cells": [
    {
      "cell_type": "code",
      "metadata": {
        "id": "eq4FYCKyfOyY"
      },
      "source": [
        "import tensorflow as tf\n",
        "from tensorflow.keras import models, layers, optimizers, metrics, callbacks\n",
        "from tensorflow.keras.applications import VGG16\n",
        "from tensorflow.keras import backend as K\n",
        "\n",
        "import tensorflow.keras\n",
        "from keras.utils.layer_utils import count_params\n",
        "\n",
        "from sklearn.metrics import classification_report, confusion_matrix\n",
        "\n",
        "import pandas as pd\n",
        "import numpy as np\n",
        "import os, itertools\n",
        "import matplotlib.pyplot as plt\n",
        "\n",
        "pixel = 224\n",
        "PATH = os.path.join(f'./drive/MyDrive/Skin Cancer MNIST: HAM10000/data/input_feature_extractor')\n",
        "n_classes = 7"
      ],
      "execution_count": null,
      "outputs": []
    },
    {
      "cell_type": "code",
      "metadata": {
        "id": "ZeBrkvZJ9k72"
      },
      "source": [
        "def recall(y_target, y_pred):\n",
        "    # clip(t, clip_value_min, clip_value_max) : clip_value_min~clip_value_max 이외 가장자리를 깎아 낸다\n",
        "    # round : 반올림한다\n",
        "    y_target_yn = K.round(K.clip(y_target, 0, 1)) # 실제값을 0(Negative) 또는 1(Positive)로 설정한다\n",
        "    y_pred_yn = K.round(K.clip(y_pred, 0, 1)) # 예측값을 0(Negative) 또는 1(Positive)로 설정한다\n",
        "\n",
        "    # True Positive는 실제 값과 예측 값이 모두 1(Positive)인 경우이다\n",
        "    count_true_positive = K.sum(y_target_yn * y_pred_yn) \n",
        "\n",
        "    # (True Positive + False Negative) = 실제 값이 1(Positive) 전체\n",
        "    count_true_positive_false_negative = K.sum(y_target_yn)\n",
        "\n",
        "    # Recall =  (True Positive) / (True Positive + False Negative)\n",
        "    # K.epsilon()는 'divide by zero error' 예방차원에서 작은 수를 더한다\n",
        "    recall = count_true_positive / (count_true_positive_false_negative + K.epsilon())\n",
        "\n",
        "    # return a single tensor value\n",
        "    return recall\n",
        "\n",
        "def precision(y_target, y_pred):\n",
        "    # clip(t, clip_value_min, clip_value_max) : clip_value_min~clip_value_max 이외 가장자리를 깎아 낸다\n",
        "    # round : 반올림한다\n",
        "    y_pred_yn = K.round(K.clip(y_pred, 0, 1)) # 예측값을 0(Negative) 또는 1(Positive)로 설정한다\n",
        "    y_target_yn = K.round(K.clip(y_target, 0, 1)) # 실제값을 0(Negative) 또는 1(Positive)로 설정한다\n",
        "\n",
        "    # True Positive는 실제 값과 예측 값이 모두 1(Positive)인 경우이다\n",
        "    count_true_positive = K.sum(y_target_yn * y_pred_yn) \n",
        "\n",
        "    # (True Positive + False Positive) = 예측 값이 1(Positive) 전체\n",
        "    count_true_positive_false_positive = K.sum(y_pred_yn)\n",
        "\n",
        "    # Precision = (True Positive) / (True Positive + False Positive)\n",
        "    # K.epsilon()는 'divide by zero error' 예방차원에서 작은 수를 더한다\n",
        "    precision = count_true_positive / (count_true_positive_false_positive + K.epsilon())\n",
        "\n",
        "    # return a single tensor value\n",
        "    return precision\n",
        "\n",
        "def f1score(y_target, y_pred):\n",
        "    _recall = recall(y_target, y_pred)\n",
        "    _precision = precision(y_target, y_pred)\n",
        "    # K.epsilon()는 'divide by zero error' 예방차원에서 작은 수를 더한다\n",
        "    _f1score = ( 2 * _recall * _precision) / (_recall + _precision+ K.epsilon())\n",
        "    \n",
        "    # return a single tensor value\n",
        "    return _f1score\n",
        "\n",
        "def plot_confusion_matrix(cm, target_names=None, cmap=None, normalize=True, labels=True, title='Confusion matrix'):\n",
        "    accuracy = np.trace(cm) / float(np.sum(cm))\n",
        "    misclass = 1 - accuracy\n",
        "\n",
        "    if cmap is None:\n",
        "        cmap = plt.get_cmap('Blues')\n",
        "\n",
        "    if normalize:\n",
        "        cm = cm.astype('float') / cm.sum(axis=1)[:, np.newaxis]\n",
        "        \n",
        "    plt.figure(figsize=(8, 6))\n",
        "    plt.imshow(cm, interpolation='nearest', cmap=cmap)\n",
        "    plt.title(title)\n",
        "    plt.colorbar()\n",
        "\n",
        "    thresh = cm.max() / 1.5 if normalize else cm.max() / 2\n",
        "    \n",
        "    if target_names is not None:\n",
        "        tick_marks = np.arange(len(target_names))\n",
        "        plt.xticks(tick_marks, target_names)\n",
        "        plt.yticks(tick_marks, target_names)\n",
        "    \n",
        "    if labels:\n",
        "        for i, j in itertools.product(range(cm.shape[0]), range(cm.shape[1])):\n",
        "            if normalize:\n",
        "                plt.text(j, i, \"{:0.4f}\".format(cm[i, j]),\n",
        "                         horizontalalignment=\"center\",\n",
        "                         color=\"white\" if cm[i, j] > thresh else \"black\")\n",
        "            else:\n",
        "                plt.text(j, i, \"{:,}\".format(cm[i, j]),\n",
        "                         horizontalalignment=\"center\",\n",
        "                         color=\"white\" if cm[i, j] > thresh else \"black\")\n",
        "\n",
        "    plt.tight_layout()\n",
        "    plt.ylabel('True label')\n",
        "    plt.xlabel('Predicted label\\naccuracy={:0.4f}; misclass={:0.4f}'.format(accuracy, misclass))\n",
        "    plt.show()"
      ],
      "execution_count": null,
      "outputs": []
    },
    {
      "cell_type": "markdown",
      "metadata": {
        "id": "qglhuXHx8T6D"
      },
      "source": [
        "### Data load for training feature extractor"
      ]
    },
    {
      "cell_type": "code",
      "metadata": {
        "id": "6-x5WTUxoB7E"
      },
      "source": [
        "X_train_img = np.load(os.path.join(PATH, f\"X_train_img_seed0.npy\"))\n",
        "\n",
        "y_train = np.load(os.path.join(PATH, \"y_train_seed0.npy\"))\n",
        "\n",
        "X_train_meta = pd.read_csv(os.path.join(PATH, \"X_train_meta_seed0.csv\"))"
      ],
      "execution_count": null,
      "outputs": []
    },
    {
      "cell_type": "code",
      "metadata": {
        "id": "p4TnNNsJAJIi"
      },
      "source": [
        "X_test_img = np.load(os.path.join(PATH, f\"X_test_img_seed0.npy\"))\n",
        "\n",
        "y_test = np.load(os.path.join(PATH, \"y_test_seed0.npy\"))\n",
        "\n",
        "X_test_meta = pd.read_csv(os.path.join(PATH, \"X_test_meta_seed0.csv\"))"
      ],
      "execution_count": null,
      "outputs": []
    },
    {
      "cell_type": "markdown",
      "metadata": {
        "id": "Xkv6zvhgAW41"
      },
      "source": [
        "### Make feature extractor"
      ]
    },
    {
      "cell_type": "code",
      "metadata": {
        "id": "yxLIYX2cs1Ky",
        "colab": {
          "base_uri": "https://localhost:8080/"
        },
        "outputId": "5c094ca2-20ad-4bce-d342-5d88654bdb42"
      },
      "source": [
        "pre_trained_model = VGG16(weights='imagenet', include_top=False, input_shape=(pixel, pixel, 3))\n",
        "\n",
        "for layer in pre_trained_model.layers:\n",
        "  layer.trainable = False\n",
        "\n",
        "x = layers.Flatten()(pre_trained_model.output)\n",
        "x = layers.Dense(2048)(x)\n",
        "x = layers.BatchNormalization()(x)\n",
        "x = layers.Activation('relu')(x)\n",
        "x = layers.Dropout(0.2)(x)\n",
        "\n",
        "x = layers.Dense(1024)(x)\n",
        "x = layers.BatchNormalization()(x)\n",
        "x = layers.Activation('relu')(x)\n",
        "x = layers.Dropout(0.2)(x)\n",
        "\n",
        "x = layers.Dense(512)(x)\n",
        "x = layers.BatchNormalization()(x)\n",
        "x = layers.Activation('relu')(x)\n",
        "x = layers.Dropout(0.2)(x)\n",
        "\n",
        "x = layers.Dense(128)(x)\n",
        "x = layers.BatchNormalization()(x)\n",
        "x = layers.Activation('relu')(x)\n",
        "x = layers.Dropout(0.2)(x)\n",
        "\n",
        "x = layers.Dense(64)(x)\n",
        "x = layers.BatchNormalization()(x)\n",
        "x = layers.Activation('relu')(x)\n",
        "x = layers.Dropout(0.2)(x)\n",
        "\n",
        "x = layers.Dense(n_classes, activation='softmax')(x)\n",
        "model = models.Model(pre_trained_model.input, x)\n",
        "\n",
        "optimizer = tf.keras.optimizers.Adam(lr=0.0001)\n",
        "model.compile(\n",
        "    loss='categorical_crossentropy',\n",
        "    optimizer=optimizer, \n",
        "    metrics=['accuracy', recall, precision, f1score]\n",
        ")"
      ],
      "execution_count": null,
      "outputs": [
        {
          "output_type": "stream",
          "text": [
            "Downloading data from https://storage.googleapis.com/tensorflow/keras-applications/vgg16/vgg16_weights_tf_dim_ordering_tf_kernels_notop.h5\n",
            "58892288/58889256 [==============================] - 2s 0us/step\n"
          ],
          "name": "stdout"
        }
      ]
    },
    {
      "cell_type": "code",
      "metadata": {
        "colab": {
          "base_uri": "https://localhost:8080/"
        },
        "id": "JH1ziCEh9BPh",
        "outputId": "0fc0270e-1b82-4472-e656-aeb6be38aa3a"
      },
      "source": [
        "print(f\"Total params: {model.count_params():,}\")\n",
        "print(f\"Trainalbe params: {count_params(model.trainable_weights):,}\")\n",
        "print(f\"Non-trainable params: {count_params(model.non_trainable_weights):,}\")"
      ],
      "execution_count": null,
      "outputs": [
        {
          "output_type": "stream",
          "text": [
            "Total params: 68,809,415\n",
            "Trainalbe params: 54,087,175\n",
            "Non-trainable params: 14,722,240\n"
          ],
          "name": "stdout"
        }
      ]
    },
    {
      "cell_type": "markdown",
      "metadata": {
        "id": "Bvdjf9-7GG5V"
      },
      "source": [
        "### Train feature extractor"
      ]
    },
    {
      "cell_type": "code",
      "metadata": {
        "id": "PVzhxib0-bBG"
      },
      "source": [
        "early_stop = callbacks.EarlyStopping(\n",
        "    monitor='val_loss', \n",
        "    patience=20, \n",
        "    verbose=1, \n",
        "    restore_best_weights=True\n",
        ")\n",
        "\n",
        "reduce_lr = callbacks.ReduceLROnPlateau(\n",
        "    monitor='val_loss',\n",
        "    patience=5,\n",
        "    verbost=1\n",
        ")"
      ],
      "execution_count": null,
      "outputs": []
    },
    {
      "cell_type": "code",
      "metadata": {
        "id": "FnHwJsnL9yk8",
        "colab": {
          "base_uri": "https://localhost:8080/"
        },
        "outputId": "fbe159e8-2384-4b15-a5b2-66a192ef238c"
      },
      "source": [
        "BATCH_SIZE = 128\n",
        "EPOCHS = 60\n",
        "\n",
        "history = model.fit(\n",
        "    X_train_img, y_train,\n",
        "    validation_data = (X_test_img, y_test),\n",
        "    steps_per_epoch=(X_train_img.shape[0] // BATCH_SIZE),\n",
        "    validation_steps=(X_test_img.shape[0] // BATCH_SIZE),\n",
        "    callbacks=[reduce_lr, early_stop],\n",
        "    epochs=EPOCHS,\n",
        "    verbose=1\n",
        ")"
      ],
      "execution_count": null,
      "outputs": [
        {
          "output_type": "stream",
          "text": [
            "Epoch 1/60\n",
            "62/62 [==============================] - 98s 2s/step - loss: 1.8489 - accuracy: 0.3612 - recall: 0.1261 - precision: 0.4683 - f1score: 0.1975 - val_loss: 1.8397 - val_accuracy: 0.3789 - val_recall: 0.0000e+00 - val_precision: 0.0000e+00 - val_f1score: 0.0000e+00\n",
            "Epoch 2/60\n",
            "62/62 [==============================] - 75s 1s/step - loss: 1.3897 - accuracy: 0.5628 - recall: 0.2828 - precision: 0.7623 - f1score: 0.4107 - val_loss: 1.3770 - val_accuracy: 0.6490 - val_recall: 0.0080 - val_precision: 0.6333 - val_f1score: 0.0158\n",
            "Epoch 3/60\n",
            "62/62 [==============================] - 76s 1s/step - loss: 1.1760 - accuracy: 0.6428 - recall: 0.3927 - precision: 0.8209 - f1score: 0.5302 - val_loss: 1.1647 - val_accuracy: 0.6995 - val_recall: 0.3470 - val_precision: 0.9296 - val_f1score: 0.5040\n",
            "Epoch 4/60\n",
            "62/62 [==============================] - 75s 1s/step - loss: 1.0224 - accuracy: 0.7004 - recall: 0.4792 - precision: 0.8586 - f1score: 0.6143 - val_loss: 1.0526 - val_accuracy: 0.7254 - val_recall: 0.4545 - val_precision: 0.9245 - val_f1score: 0.6084\n",
            "Epoch 5/60\n",
            "62/62 [==============================] - 75s 1s/step - loss: 0.8724 - accuracy: 0.7485 - recall: 0.5665 - precision: 0.8856 - f1score: 0.6903 - val_loss: 1.0840 - val_accuracy: 0.6970 - val_recall: 0.4806 - val_precision: 0.8878 - val_f1score: 0.6228\n",
            "Epoch 6/60\n",
            "62/62 [==============================] - 75s 1s/step - loss: 0.7680 - accuracy: 0.7862 - recall: 0.6293 - precision: 0.8950 - f1score: 0.7386 - val_loss: 1.3175 - val_accuracy: 0.6455 - val_recall: 0.3767 - val_precision: 0.8771 - val_f1score: 0.5258\n",
            "Epoch 7/60\n",
            "62/62 [==============================] - 75s 1s/step - loss: 0.6560 - accuracy: 0.8195 - recall: 0.6940 - precision: 0.9135 - f1score: 0.7882 - val_loss: 1.1469 - val_accuracy: 0.6990 - val_recall: 0.4964 - val_precision: 0.8770 - val_f1score: 0.6331\n",
            "Epoch 8/60\n",
            "62/62 [==============================] - 75s 1s/step - loss: 0.5617 - accuracy: 0.8538 - recall: 0.7543 - precision: 0.9251 - f1score: 0.8307 - val_loss: 0.8905 - val_accuracy: 0.7419 - val_recall: 0.6077 - val_precision: 0.8834 - val_f1score: 0.7196\n",
            "Epoch 9/60\n",
            "62/62 [==============================] - 74s 1s/step - loss: 0.4895 - accuracy: 0.8787 - recall: 0.7972 - precision: 0.9384 - f1score: 0.8617 - val_loss: 1.7246 - val_accuracy: 0.5517 - val_recall: 0.3785 - val_precision: 0.6939 - val_f1score: 0.4891\n",
            "Epoch 10/60\n",
            "62/62 [==============================] - 74s 1s/step - loss: 0.4324 - accuracy: 0.8910 - recall: 0.8261 - precision: 0.9431 - f1score: 0.8805 - val_loss: 0.9489 - val_accuracy: 0.7339 - val_recall: 0.6475 - val_precision: 0.8254 - val_f1score: 0.7255\n",
            "Epoch 11/60\n",
            "62/62 [==============================] - 74s 1s/step - loss: 0.3721 - accuracy: 0.9120 - recall: 0.8565 - precision: 0.9542 - f1score: 0.9025 - val_loss: 0.8765 - val_accuracy: 0.7499 - val_recall: 0.6739 - val_precision: 0.8178 - val_f1score: 0.7388\n",
            "Epoch 12/60\n",
            "62/62 [==============================] - 74s 1s/step - loss: 0.3168 - accuracy: 0.9277 - recall: 0.8825 - precision: 0.9632 - f1score: 0.9209 - val_loss: 1.9293 - val_accuracy: 0.5292 - val_recall: 0.4140 - val_precision: 0.6053 - val_f1score: 0.4911\n",
            "Epoch 13/60\n",
            "62/62 [==============================] - 74s 1s/step - loss: 0.2778 - accuracy: 0.9386 - recall: 0.9040 - precision: 0.9653 - f1score: 0.9335 - val_loss: 0.9332 - val_accuracy: 0.7339 - val_recall: 0.7060 - val_precision: 0.7812 - val_f1score: 0.7415\n",
            "Epoch 14/60\n",
            "62/62 [==============================] - 74s 1s/step - loss: 0.2447 - accuracy: 0.9495 - recall: 0.9173 - precision: 0.9729 - f1score: 0.9442 - val_loss: 1.3914 - val_accuracy: 0.6291 - val_recall: 0.5552 - val_precision: 0.6986 - val_f1score: 0.6186\n",
            "Epoch 15/60\n",
            "62/62 [==============================] - 75s 1s/step - loss: 0.2206 - accuracy: 0.9526 - recall: 0.9280 - precision: 0.9749 - f1score: 0.9508 - val_loss: 0.8598 - val_accuracy: 0.7539 - val_recall: 0.7165 - val_precision: 0.8026 - val_f1score: 0.7570\n",
            "Epoch 16/60\n",
            "62/62 [==============================] - 74s 1s/step - loss: 0.1869 - accuracy: 0.9657 - recall: 0.9423 - precision: 0.9809 - f1score: 0.9612 - val_loss: 0.8384 - val_accuracy: 0.7534 - val_recall: 0.7171 - val_precision: 0.8100 - val_f1score: 0.7605\n",
            "Epoch 17/60\n",
            "62/62 [==============================] - 74s 1s/step - loss: 0.1671 - accuracy: 0.9659 - recall: 0.9500 - precision: 0.9825 - f1score: 0.9659 - val_loss: 0.8452 - val_accuracy: 0.7664 - val_recall: 0.7160 - val_precision: 0.8153 - val_f1score: 0.7622\n",
            "Epoch 18/60\n",
            "62/62 [==============================] - 75s 1s/step - loss: 0.1392 - accuracy: 0.9745 - recall: 0.9606 - precision: 0.9866 - f1score: 0.9733 - val_loss: 0.7829 - val_accuracy: 0.7703 - val_recall: 0.7415 - val_precision: 0.8083 - val_f1score: 0.7734\n",
            "Epoch 19/60\n",
            "62/62 [==============================] - 74s 1s/step - loss: 0.1266 - accuracy: 0.9788 - recall: 0.9662 - precision: 0.9887 - f1score: 0.9773 - val_loss: 0.7890 - val_accuracy: 0.7629 - val_recall: 0.7340 - val_precision: 0.8107 - val_f1score: 0.7703\n",
            "Epoch 20/60\n",
            "62/62 [==============================] - 74s 1s/step - loss: 0.1149 - accuracy: 0.9815 - recall: 0.9698 - precision: 0.9885 - f1score: 0.9790 - val_loss: 0.8327 - val_accuracy: 0.7644 - val_recall: 0.7313 - val_precision: 0.8073 - val_f1score: 0.7672\n",
            "Epoch 21/60\n",
            "62/62 [==============================] - 74s 1s/step - loss: 0.1141 - accuracy: 0.9802 - recall: 0.9664 - precision: 0.9878 - f1score: 0.9769 - val_loss: 0.8773 - val_accuracy: 0.7519 - val_recall: 0.7245 - val_precision: 0.7864 - val_f1score: 0.7541\n",
            "Epoch 22/60\n",
            "62/62 [==============================] - 74s 1s/step - loss: 0.0975 - accuracy: 0.9848 - recall: 0.9755 - precision: 0.9908 - f1score: 0.9831 - val_loss: 1.6809 - val_accuracy: 0.6146 - val_recall: 0.5586 - val_precision: 0.6715 - val_f1score: 0.6094\n",
            "Epoch 23/60\n",
            "62/62 [==============================] - 74s 1s/step - loss: 0.0852 - accuracy: 0.9868 - recall: 0.9797 - precision: 0.9928 - f1score: 0.9862 - val_loss: 0.8865 - val_accuracy: 0.7604 - val_recall: 0.7379 - val_precision: 0.7977 - val_f1score: 0.7665\n",
            "Epoch 24/60\n",
            "62/62 [==============================] - 74s 1s/step - loss: 0.0726 - accuracy: 0.9911 - recall: 0.9847 - precision: 0.9952 - f1score: 0.9899 - val_loss: 0.7902 - val_accuracy: 0.7838 - val_recall: 0.7579 - val_precision: 0.8132 - val_f1score: 0.7845\n",
            "Epoch 25/60\n",
            "62/62 [==============================] - 74s 1s/step - loss: 0.0666 - accuracy: 0.9948 - recall: 0.9876 - precision: 0.9975 - f1score: 0.9925 - val_loss: 0.7868 - val_accuracy: 0.7873 - val_recall: 0.7694 - val_precision: 0.8090 - val_f1score: 0.7887\n",
            "Epoch 26/60\n",
            "62/62 [==============================] - 75s 1s/step - loss: 0.0637 - accuracy: 0.9946 - recall: 0.9903 - precision: 0.9973 - f1score: 0.9937 - val_loss: 0.7812 - val_accuracy: 0.7833 - val_recall: 0.7659 - val_precision: 0.8108 - val_f1score: 0.7876\n",
            "Epoch 27/60\n",
            "62/62 [==============================] - 75s 1s/step - loss: 0.0650 - accuracy: 0.9936 - recall: 0.9883 - precision: 0.9967 - f1score: 0.9925 - val_loss: 0.7766 - val_accuracy: 0.7888 - val_recall: 0.7694 - val_precision: 0.8110 - val_f1score: 0.7895\n",
            "Epoch 28/60\n",
            "62/62 [==============================] - 74s 1s/step - loss: 0.0565 - accuracy: 0.9954 - recall: 0.9913 - precision: 0.9979 - f1score: 0.9946 - val_loss: 0.7778 - val_accuracy: 0.7853 - val_recall: 0.7674 - val_precision: 0.8072 - val_f1score: 0.7867\n",
            "Epoch 29/60\n",
            "62/62 [==============================] - 75s 1s/step - loss: 0.0560 - accuracy: 0.9960 - recall: 0.9914 - precision: 0.9981 - f1score: 0.9948 - val_loss: 0.7820 - val_accuracy: 0.7863 - val_recall: 0.7674 - val_precision: 0.8082 - val_f1score: 0.7872\n",
            "Epoch 30/60\n",
            "62/62 [==============================] - 74s 1s/step - loss: 0.0568 - accuracy: 0.9951 - recall: 0.9906 - precision: 0.9974 - f1score: 0.9939 - val_loss: 0.7850 - val_accuracy: 0.7828 - val_recall: 0.7679 - val_precision: 0.8063 - val_f1score: 0.7865\n",
            "Epoch 31/60\n",
            "62/62 [==============================] - 74s 1s/step - loss: 0.0540 - accuracy: 0.9963 - recall: 0.9924 - precision: 0.9981 - f1score: 0.9953 - val_loss: 0.7772 - val_accuracy: 0.7903 - val_recall: 0.7713 - val_precision: 0.8101 - val_f1score: 0.7902\n",
            "Epoch 32/60\n",
            "62/62 [==============================] - 74s 1s/step - loss: 0.0539 - accuracy: 0.9965 - recall: 0.9923 - precision: 0.9974 - f1score: 0.9948 - val_loss: 0.7855 - val_accuracy: 0.7903 - val_recall: 0.7694 - val_precision: 0.8112 - val_f1score: 0.7896\n",
            "Epoch 33/60\n",
            "62/62 [==============================] - 75s 1s/step - loss: 0.0513 - accuracy: 0.9978 - recall: 0.9939 - precision: 0.9988 - f1score: 0.9963 - val_loss: 0.7811 - val_accuracy: 0.7903 - val_recall: 0.7714 - val_precision: 0.8118 - val_f1score: 0.7910\n",
            "Epoch 34/60\n",
            "62/62 [==============================] - 74s 1s/step - loss: 0.0535 - accuracy: 0.9955 - recall: 0.9927 - precision: 0.9978 - f1score: 0.9952 - val_loss: 0.7787 - val_accuracy: 0.7888 - val_recall: 0.7709 - val_precision: 0.8088 - val_f1score: 0.7893\n",
            "Epoch 35/60\n",
            "62/62 [==============================] - 74s 1s/step - loss: 0.0504 - accuracy: 0.9971 - recall: 0.9934 - precision: 0.9986 - f1score: 0.9960 - val_loss: 0.7783 - val_accuracy: 0.7863 - val_recall: 0.7704 - val_precision: 0.8095 - val_f1score: 0.7894\n",
            "Epoch 36/60\n",
            "62/62 [==============================] - 74s 1s/step - loss: 0.0537 - accuracy: 0.9956 - recall: 0.9913 - precision: 0.9977 - f1score: 0.9945 - val_loss: 0.7800 - val_accuracy: 0.7873 - val_recall: 0.7694 - val_precision: 0.8123 - val_f1score: 0.7902\n",
            "Epoch 37/60\n",
            "62/62 [==============================] - 74s 1s/step - loss: 0.0502 - accuracy: 0.9974 - recall: 0.9934 - precision: 0.9987 - f1score: 0.9961 - val_loss: 0.7799 - val_accuracy: 0.7883 - val_recall: 0.7684 - val_precision: 0.8125 - val_f1score: 0.7897\n",
            "Epoch 38/60\n",
            "62/62 [==============================] - 74s 1s/step - loss: 0.0518 - accuracy: 0.9971 - recall: 0.9940 - precision: 0.9983 - f1score: 0.9961 - val_loss: 0.7810 - val_accuracy: 0.7878 - val_recall: 0.7684 - val_precision: 0.8131 - val_f1score: 0.7900\n",
            "Epoch 39/60\n",
            "62/62 [==============================] - 74s 1s/step - loss: 0.0500 - accuracy: 0.9974 - recall: 0.9937 - precision: 0.9991 - f1score: 0.9964 - val_loss: 0.7804 - val_accuracy: 0.7883 - val_recall: 0.7684 - val_precision: 0.8122 - val_f1score: 0.7896\n",
            "Epoch 40/60\n",
            "62/62 [==============================] - 74s 1s/step - loss: 0.0516 - accuracy: 0.9965 - recall: 0.9922 - precision: 0.9986 - f1score: 0.9954 - val_loss: 0.7803 - val_accuracy: 0.7878 - val_recall: 0.7684 - val_precision: 0.8130 - val_f1score: 0.7900\n",
            "Epoch 41/60\n",
            "62/62 [==============================] - 74s 1s/step - loss: 0.0507 - accuracy: 0.9975 - recall: 0.9934 - precision: 0.9988 - f1score: 0.9961 - val_loss: 0.7798 - val_accuracy: 0.7878 - val_recall: 0.7679 - val_precision: 0.8125 - val_f1score: 0.7894\n",
            "Epoch 42/60\n",
            "62/62 [==============================] - 74s 1s/step - loss: 0.0500 - accuracy: 0.9966 - recall: 0.9932 - precision: 0.9986 - f1score: 0.9959 - val_loss: 0.7790 - val_accuracy: 0.7878 - val_recall: 0.7679 - val_precision: 0.8125 - val_f1score: 0.7894\n",
            "Epoch 43/60\n",
            "62/62 [==============================] - 74s 1s/step - loss: 0.0525 - accuracy: 0.9965 - recall: 0.9922 - precision: 0.9982 - f1score: 0.9952 - val_loss: 0.7792 - val_accuracy: 0.7878 - val_recall: 0.7679 - val_precision: 0.8129 - val_f1score: 0.7896\n",
            "Epoch 44/60\n",
            "62/62 [==============================] - 74s 1s/step - loss: 0.0524 - accuracy: 0.9966 - recall: 0.9931 - precision: 0.9978 - f1score: 0.9954 - val_loss: 0.7792 - val_accuracy: 0.7878 - val_recall: 0.7674 - val_precision: 0.8124 - val_f1score: 0.7891\n",
            "Epoch 45/60\n",
            "62/62 [==============================] - 74s 1s/step - loss: 0.0507 - accuracy: 0.9975 - recall: 0.9928 - precision: 0.9985 - f1score: 0.9956 - val_loss: 0.7795 - val_accuracy: 0.7883 - val_recall: 0.7669 - val_precision: 0.8127 - val_f1score: 0.7890\n",
            "Epoch 46/60\n",
            "62/62 [==============================] - 74s 1s/step - loss: 0.0507 - accuracy: 0.9960 - recall: 0.9927 - precision: 0.9985 - f1score: 0.9956 - val_loss: 0.7793 - val_accuracy: 0.7883 - val_recall: 0.7669 - val_precision: 0.8127 - val_f1score: 0.7890\n",
            "Epoch 47/60\n",
            "62/62 [==============================] - ETA: 0s - loss: 0.0514 - accuracy: 0.9965 - recall: 0.9934 - precision: 0.9983 - f1score: 0.9958Restoring model weights from the end of the best epoch.\n",
            "62/62 [==============================] - 74s 1s/step - loss: 0.0514 - accuracy: 0.9965 - recall: 0.9934 - precision: 0.9983 - f1score: 0.9958 - val_loss: 0.7801 - val_accuracy: 0.7878 - val_recall: 0.7684 - val_precision: 0.8130 - val_f1score: 0.7899\n",
            "Epoch 00047: early stopping\n"
          ],
          "name": "stdout"
        }
      ]
    },
    {
      "cell_type": "code",
      "metadata": {
        "id": "W88sGMSR_or9",
        "colab": {
          "base_uri": "https://localhost:8080/"
        },
        "outputId": "5fbf2e4a-0d6c-41cc-8491-ec18ca8b3943"
      },
      "source": [
        "early_stop.stopped_epoch"
      ],
      "execution_count": null,
      "outputs": [
        {
          "output_type": "execute_result",
          "data": {
            "text/plain": [
              "46"
            ]
          },
          "metadata": {
            "tags": []
          },
          "execution_count": 11
        }
      ]
    },
    {
      "cell_type": "code",
      "metadata": {
        "id": "WSI2nCgu_rHJ",
        "colab": {
          "base_uri": "https://localhost:8080/",
          "height": 545
        },
        "outputId": "34c135cf-4c03-4d61-89ad-90bfc900bf85"
      },
      "source": [
        "metric = history.history['f1score']\n",
        "val_metric = history.history['val_f1score']\n",
        "\n",
        "loss = history.history['loss']\n",
        "val_loss = history.history['val_loss']\n",
        "\n",
        "plt.plot(range(len(metric)), metric, label='training')\n",
        "plt.plot(range(len(val_metric)), val_metric, label='validation')\n",
        "plt.legend()\n",
        "plt.title(\"F1 Score\")\n",
        "\n",
        "plt.figure()\n",
        "plt.plot(range(len(loss)), loss, label='training')\n",
        "plt.plot(range(len(val_loss)), val_loss, label='validation')\n",
        "plt.legend()\n",
        "plt.title(\"Loss\")\n",
        "\n",
        "plt.show()"
      ],
      "execution_count": null,
      "outputs": [
        {
          "output_type": "display_data",
          "data": {
            "image/png": "[encoded data removed]",
            "text/plain": [
              "<Figure size 432x288 with 1 Axes>"
            ]
          },
          "metadata": {
            "tags": [],
            "needs_background": "light"
          }
        },
        {
          "output_type": "display_data",
          "data": {
            "image/png": "[encoded data removed]",
            "text/plain": [
              "<Figure size 432x288 with 1 Axes>"
            ]
          },
          "metadata": {
            "tags": [],
            "needs_background": "light"
          }
        }
      ]
    },
    {
      "cell_type": "code",
      "metadata": {
        "id": "oNzF3e_vAi_h"
      },
      "source": [
        "y_pred = model.predict(X_test_img)\n",
        "\n",
        "y_pred_classes = np.argmax(y_pred, axis=1)\n",
        "y_true = np.argmax(y_test, axis=1)"
      ],
      "execution_count": null,
      "outputs": []
    },
    {
      "cell_type": "code",
      "metadata": {
        "id": "BKMFL98iBxWe",
        "colab": {
          "base_uri": "https://localhost:8080/"
        },
        "outputId": "d1ac0993-a0aa-4357-c13a-8312bc8343d0"
      },
      "source": [
        "print(classification_report(y_true, y_pred_classes))"
      ],
      "execution_count": null,
      "outputs": [
        {
          "output_type": "stream",
          "text": [
            "              precision    recall  f1-score   support\n",
            "\n",
            "           0       0.58      0.52      0.55        61\n",
            "           1       0.64      0.51      0.57       111\n",
            "           2       0.59      0.54      0.56       198\n",
            "           3       0.64      0.24      0.35        29\n",
            "           4       0.87      0.93      0.90      1351\n",
            "           5       0.76      0.53      0.63        30\n",
            "           6       0.54      0.50      0.52       223\n",
            "\n",
            "    accuracy                           0.79      2003\n",
            "   macro avg       0.66      0.54      0.58      2003\n",
            "weighted avg       0.78      0.79      0.78      2003\n",
            "\n"
          ],
          "name": "stdout"
        }
      ]
    },
    {
      "cell_type": "code",
      "metadata": {
        "id": "aq37oeFdB3vS",
        "colab": {
          "base_uri": "https://localhost:8080/",
          "height": 467
        },
        "outputId": "5f64d1a6-6d2f-4efc-c70a-94c3e3e9aa24"
      },
      "source": [
        "classes = ['akiec', 'bcc', 'bkl', 'df', 'mel', 'nv', 'vasc']\n",
        "plot_confusion_matrix(confusion_matrix(y_true, y_pred_classes), target_names=classes)"
      ],
      "execution_count": null,
      "outputs": [
        {
          "output_type": "display_data",
          "data": {
            "image/png": "[encoded data removed]",
            "text/plain": [
              "<Figure size 576x432 with 2 Axes>"
            ]
          },
          "metadata": {
            "tags": [],
            "needs_background": "light"
          }
        }
      ]
    },
    {
      "cell_type": "markdown",
      "metadata": {
        "id": "N3mtOQlXGQeU"
      },
      "source": [
        "### Save feature extractor"
      ]
    },
    {
      "cell_type": "code",
      "metadata": {
        "id": "lAODyOJ--vR5"
      },
      "source": [
        "feature_extractor = models.Model(model.input, model.layers[-2].output)"
      ],
      "execution_count": null,
      "outputs": []
    },
    {
      "cell_type": "code",
      "metadata": {
        "id": "tJxXCz3D9gtX"
      },
      "source": [
        "feature_extractor.save(os.path.join(PATH, \"../VGG16_feature_extractor_8K.h5\"))"
      ],
      "execution_count": null,
      "outputs": []
    }
  ]
}